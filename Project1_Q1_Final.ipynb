{
 "cells": [
  {
   "cell_type": "markdown",
   "metadata": {},
   "source": [
    "# 1. Import the necessary libraries"
   ]
  },
  {
   "cell_type": "code",
   "execution_count": 1,
   "metadata": {},
   "outputs": [],
   "source": [
    "import numpy as np\n",
    "import pandas as pd\n",
    "import matplotlib.pyplot as plt\n",
    "from matplotlib.pyplot import rcParams"
   ]
  },
  {
   "cell_type": "markdown",
   "metadata": {},
   "source": [
    "# 2. Create a DataFrame with dictionary. Your DataFrame should       contains at least 20 rows and 6 columns. In some cells, include standard, non-standard, and expected missing values."
   ]
  },
  {
   "cell_type": "code",
   "execution_count": 2,
   "metadata": {},
   "outputs": [],
   "source": [
    "data = {'Name':['Chhiring', 'Shristee', 'Sharada', 'Sunil', 'Karma','Jose', 'James',\n",
    "                'Joney',' Kate','Kaori','Binod', ' Nancy','Park','Sally','Nick', 'Salem',\n",
    "                'Mohamad','Priti','Kriti', 'Kisun'], \n",
    "        'Age': [40,23,40, 25,19,20,31,33,24,25,22,29,np.NaN,30,21,32,18,np.nan,28,np.NaN], \n",
    "        'Course':['Math', 'Python', 'Datasciense', 'sql', 'Eng','Bio', 'Physics', 'Bio',\n",
    "                  'NaN','Math','Python','C#', 'C++', 'D-art','Math','D-art','Math','Python','Python','NaN' ],\n",
    "       'Grade': [88,92,95,75,90,np.NaN,87,90,91,93,97,87,88,89,79,'Nan',98,np.nan,np.NaN,88], \n",
    "       'Gender': ['M','F','F','M','M','M','M','M','F','F','F','M','F','M','M','M','F','F',\n",
    "                  'M', 'F'],\n",
    "       'Major':['DataSceince','Libaral art','Libaral art','csi','csi','csi','IT','IT','IT',\n",
    "               'Journalism','Security', 'Security', 'WebDesign', 'WebDesign', 'Business', \n",
    "                'Business', 'Fine Art', 'Accounting', 'Business', 'Accounting'],\n",
    "       }"
   ]
  },
  {
   "cell_type": "markdown",
   "metadata": {},
   "source": [
    "# 2. Assign your DataFrame to a variable called MAC270"
   ]
  },
  {
   "cell_type": "code",
   "execution_count": 3,
   "metadata": {},
   "outputs": [],
   "source": [
    "MAC270 = pd.DataFrame(data, columns = ['Name','Age','Course','Grade','Gender', 'Major'])"
   ]
  },
  {
   "cell_type": "code",
   "execution_count": 4,
   "metadata": {},
   "outputs": [
    {
     "data": {
      "text/html": [
       "<div>\n",
       "<style scoped>\n",
       "    .dataframe tbody tr th:only-of-type {\n",
       "        vertical-align: middle;\n",
       "    }\n",
       "\n",
       "    .dataframe tbody tr th {\n",
       "        vertical-align: top;\n",
       "    }\n",
       "\n",
       "    .dataframe thead th {\n",
       "        text-align: right;\n",
       "    }\n",
       "</style>\n",
       "<table border=\"1\" class=\"dataframe\">\n",
       "  <thead>\n",
       "    <tr style=\"text-align: right;\">\n",
       "      <th></th>\n",
       "      <th>Name</th>\n",
       "      <th>Age</th>\n",
       "      <th>Course</th>\n",
       "      <th>Grade</th>\n",
       "      <th>Gender</th>\n",
       "      <th>Major</th>\n",
       "    </tr>\n",
       "  </thead>\n",
       "  <tbody>\n",
       "    <tr>\n",
       "      <th>0</th>\n",
       "      <td>Chhiring</td>\n",
       "      <td>40.0</td>\n",
       "      <td>Math</td>\n",
       "      <td>88</td>\n",
       "      <td>M</td>\n",
       "      <td>DataSceince</td>\n",
       "    </tr>\n",
       "    <tr>\n",
       "      <th>1</th>\n",
       "      <td>Shristee</td>\n",
       "      <td>23.0</td>\n",
       "      <td>Python</td>\n",
       "      <td>92</td>\n",
       "      <td>F</td>\n",
       "      <td>Libaral art</td>\n",
       "    </tr>\n",
       "    <tr>\n",
       "      <th>2</th>\n",
       "      <td>Sharada</td>\n",
       "      <td>40.0</td>\n",
       "      <td>Datasciense</td>\n",
       "      <td>95</td>\n",
       "      <td>F</td>\n",
       "      <td>Libaral art</td>\n",
       "    </tr>\n",
       "    <tr>\n",
       "      <th>3</th>\n",
       "      <td>Sunil</td>\n",
       "      <td>25.0</td>\n",
       "      <td>sql</td>\n",
       "      <td>75</td>\n",
       "      <td>M</td>\n",
       "      <td>csi</td>\n",
       "    </tr>\n",
       "    <tr>\n",
       "      <th>4</th>\n",
       "      <td>Karma</td>\n",
       "      <td>19.0</td>\n",
       "      <td>Eng</td>\n",
       "      <td>90</td>\n",
       "      <td>M</td>\n",
       "      <td>csi</td>\n",
       "    </tr>\n",
       "    <tr>\n",
       "      <th>5</th>\n",
       "      <td>Jose</td>\n",
       "      <td>20.0</td>\n",
       "      <td>Bio</td>\n",
       "      <td>NaN</td>\n",
       "      <td>M</td>\n",
       "      <td>csi</td>\n",
       "    </tr>\n",
       "    <tr>\n",
       "      <th>6</th>\n",
       "      <td>James</td>\n",
       "      <td>31.0</td>\n",
       "      <td>Physics</td>\n",
       "      <td>87</td>\n",
       "      <td>M</td>\n",
       "      <td>IT</td>\n",
       "    </tr>\n",
       "    <tr>\n",
       "      <th>7</th>\n",
       "      <td>Joney</td>\n",
       "      <td>33.0</td>\n",
       "      <td>Bio</td>\n",
       "      <td>90</td>\n",
       "      <td>M</td>\n",
       "      <td>IT</td>\n",
       "    </tr>\n",
       "    <tr>\n",
       "      <th>8</th>\n",
       "      <td>Kate</td>\n",
       "      <td>24.0</td>\n",
       "      <td>NaN</td>\n",
       "      <td>91</td>\n",
       "      <td>F</td>\n",
       "      <td>IT</td>\n",
       "    </tr>\n",
       "    <tr>\n",
       "      <th>9</th>\n",
       "      <td>Kaori</td>\n",
       "      <td>25.0</td>\n",
       "      <td>Math</td>\n",
       "      <td>93</td>\n",
       "      <td>F</td>\n",
       "      <td>Journalism</td>\n",
       "    </tr>\n",
       "    <tr>\n",
       "      <th>10</th>\n",
       "      <td>Binod</td>\n",
       "      <td>22.0</td>\n",
       "      <td>Python</td>\n",
       "      <td>97</td>\n",
       "      <td>F</td>\n",
       "      <td>Security</td>\n",
       "    </tr>\n",
       "    <tr>\n",
       "      <th>11</th>\n",
       "      <td>Nancy</td>\n",
       "      <td>29.0</td>\n",
       "      <td>C#</td>\n",
       "      <td>87</td>\n",
       "      <td>M</td>\n",
       "      <td>Security</td>\n",
       "    </tr>\n",
       "    <tr>\n",
       "      <th>12</th>\n",
       "      <td>Park</td>\n",
       "      <td>NaN</td>\n",
       "      <td>C++</td>\n",
       "      <td>88</td>\n",
       "      <td>F</td>\n",
       "      <td>WebDesign</td>\n",
       "    </tr>\n",
       "    <tr>\n",
       "      <th>13</th>\n",
       "      <td>Sally</td>\n",
       "      <td>30.0</td>\n",
       "      <td>D-art</td>\n",
       "      <td>89</td>\n",
       "      <td>M</td>\n",
       "      <td>WebDesign</td>\n",
       "    </tr>\n",
       "    <tr>\n",
       "      <th>14</th>\n",
       "      <td>Nick</td>\n",
       "      <td>21.0</td>\n",
       "      <td>Math</td>\n",
       "      <td>79</td>\n",
       "      <td>M</td>\n",
       "      <td>Business</td>\n",
       "    </tr>\n",
       "    <tr>\n",
       "      <th>15</th>\n",
       "      <td>Salem</td>\n",
       "      <td>32.0</td>\n",
       "      <td>D-art</td>\n",
       "      <td>Nan</td>\n",
       "      <td>M</td>\n",
       "      <td>Business</td>\n",
       "    </tr>\n",
       "    <tr>\n",
       "      <th>16</th>\n",
       "      <td>Mohamad</td>\n",
       "      <td>18.0</td>\n",
       "      <td>Math</td>\n",
       "      <td>98</td>\n",
       "      <td>F</td>\n",
       "      <td>Fine Art</td>\n",
       "    </tr>\n",
       "    <tr>\n",
       "      <th>17</th>\n",
       "      <td>Priti</td>\n",
       "      <td>NaN</td>\n",
       "      <td>Python</td>\n",
       "      <td>NaN</td>\n",
       "      <td>F</td>\n",
       "      <td>Accounting</td>\n",
       "    </tr>\n",
       "    <tr>\n",
       "      <th>18</th>\n",
       "      <td>Kriti</td>\n",
       "      <td>28.0</td>\n",
       "      <td>Python</td>\n",
       "      <td>NaN</td>\n",
       "      <td>M</td>\n",
       "      <td>Business</td>\n",
       "    </tr>\n",
       "    <tr>\n",
       "      <th>19</th>\n",
       "      <td>Kisun</td>\n",
       "      <td>NaN</td>\n",
       "      <td>NaN</td>\n",
       "      <td>88</td>\n",
       "      <td>F</td>\n",
       "      <td>Accounting</td>\n",
       "    </tr>\n",
       "  </tbody>\n",
       "</table>\n",
       "</div>"
      ],
      "text/plain": [
       "        Name   Age       Course Grade Gender        Major\n",
       "0   Chhiring  40.0         Math    88      M  DataSceince\n",
       "1   Shristee  23.0       Python    92      F  Libaral art\n",
       "2    Sharada  40.0  Datasciense    95      F  Libaral art\n",
       "3      Sunil  25.0          sql    75      M          csi\n",
       "4      Karma  19.0          Eng    90      M          csi\n",
       "5       Jose  20.0          Bio   NaN      M          csi\n",
       "6      James  31.0      Physics    87      M           IT\n",
       "7      Joney  33.0          Bio    90      M           IT\n",
       "8       Kate  24.0          NaN    91      F           IT\n",
       "9      Kaori  25.0         Math    93      F   Journalism\n",
       "10     Binod  22.0       Python    97      F     Security\n",
       "11     Nancy  29.0           C#    87      M     Security\n",
       "12      Park   NaN          C++    88      F    WebDesign\n",
       "13     Sally  30.0        D-art    89      M    WebDesign\n",
       "14      Nick  21.0         Math    79      M     Business\n",
       "15     Salem  32.0        D-art   Nan      M     Business\n",
       "16   Mohamad  18.0         Math    98      F     Fine Art\n",
       "17     Priti   NaN       Python   NaN      F   Accounting\n",
       "18     Kriti  28.0       Python   NaN      M     Business\n",
       "19     Kisun   NaN          NaN    88      F   Accounting"
      ]
     },
     "execution_count": 4,
     "metadata": {},
     "output_type": "execute_result"
    }
   ],
   "source": [
    "MAC270"
   ]
  },
  {
   "cell_type": "markdown",
   "metadata": {},
   "source": [
    "# 4. Show how many rows and how many columns"
   ]
  },
  {
   "cell_type": "code",
   "execution_count": 5,
   "metadata": {},
   "outputs": [
    {
     "data": {
      "text/plain": [
       "(20, 6)"
      ]
     },
     "execution_count": 5,
     "metadata": {},
     "output_type": "execute_result"
    }
   ],
   "source": [
    "MAC270.shape\n"
   ]
  },
  {
   "cell_type": "markdown",
   "metadata": {},
   "source": [
    "# 5. Show only the name of your columns"
   ]
  },
  {
   "cell_type": "code",
   "execution_count": 6,
   "metadata": {},
   "outputs": [
    {
     "data": {
      "text/plain": [
       "Index(['Name', 'Age', 'Course', 'Grade', 'Gender', 'Major'], dtype='object')"
      ]
     },
     "execution_count": 6,
     "metadata": {},
     "output_type": "execute_result"
    }
   ],
   "source": [
    "MAC270.columns"
   ]
  },
  {
   "cell_type": "markdown",
   "metadata": {},
   "source": [
    "# 6. show only the your rows in the dataframe"
   ]
  },
  {
   "cell_type": "code",
   "execution_count": 7,
   "metadata": {},
   "outputs": [
    {
     "data": {
      "text/plain": [
       "0     Chhiring\n",
       "1     Shristee\n",
       "2      Sharada\n",
       "3        Sunil\n",
       "4        Karma\n",
       "5         Jose\n",
       "6        James\n",
       "7        Joney\n",
       "8         Kate\n",
       "9        Kaori\n",
       "10       Binod\n",
       "11       Nancy\n",
       "12        Park\n",
       "13       Sally\n",
       "14        Nick\n",
       "15       Salem\n",
       "16     Mohamad\n",
       "17       Priti\n",
       "18       Kriti\n",
       "19       Kisun\n",
       "Name: Name, dtype: object"
      ]
     },
     "execution_count": 7,
     "metadata": {},
     "output_type": "execute_result"
    }
   ],
   "source": [
    "MAC270['Name']"
   ]
  },
  {
   "cell_type": "markdown",
   "metadata": {},
   "source": [
    "# 7. show only first three rows"
   ]
  },
  {
   "cell_type": "code",
   "execution_count": 8,
   "metadata": {},
   "outputs": [
    {
     "data": {
      "text/html": [
       "<div>\n",
       "<style scoped>\n",
       "    .dataframe tbody tr th:only-of-type {\n",
       "        vertical-align: middle;\n",
       "    }\n",
       "\n",
       "    .dataframe tbody tr th {\n",
       "        vertical-align: top;\n",
       "    }\n",
       "\n",
       "    .dataframe thead th {\n",
       "        text-align: right;\n",
       "    }\n",
       "</style>\n",
       "<table border=\"1\" class=\"dataframe\">\n",
       "  <thead>\n",
       "    <tr style=\"text-align: right;\">\n",
       "      <th></th>\n",
       "      <th>Name</th>\n",
       "      <th>Age</th>\n",
       "      <th>Course</th>\n",
       "      <th>Grade</th>\n",
       "      <th>Gender</th>\n",
       "      <th>Major</th>\n",
       "    </tr>\n",
       "  </thead>\n",
       "  <tbody>\n",
       "    <tr>\n",
       "      <th>0</th>\n",
       "      <td>Chhiring</td>\n",
       "      <td>40.0</td>\n",
       "      <td>Math</td>\n",
       "      <td>88</td>\n",
       "      <td>M</td>\n",
       "      <td>DataSceince</td>\n",
       "    </tr>\n",
       "    <tr>\n",
       "      <th>1</th>\n",
       "      <td>Shristee</td>\n",
       "      <td>23.0</td>\n",
       "      <td>Python</td>\n",
       "      <td>92</td>\n",
       "      <td>F</td>\n",
       "      <td>Libaral art</td>\n",
       "    </tr>\n",
       "    <tr>\n",
       "      <th>2</th>\n",
       "      <td>Sharada</td>\n",
       "      <td>40.0</td>\n",
       "      <td>Datasciense</td>\n",
       "      <td>95</td>\n",
       "      <td>F</td>\n",
       "      <td>Libaral art</td>\n",
       "    </tr>\n",
       "  </tbody>\n",
       "</table>\n",
       "</div>"
      ],
      "text/plain": [
       "       Name   Age       Course Grade Gender        Major\n",
       "0  Chhiring  40.0         Math    88      M  DataSceince\n",
       "1  Shristee  23.0       Python    92      F  Libaral art\n",
       "2   Sharada  40.0  Datasciense    95      F  Libaral art"
      ]
     },
     "execution_count": 8,
     "metadata": {},
     "output_type": "execute_result"
    }
   ],
   "source": [
    "MAC270.head(3)"
   ]
  },
  {
   "cell_type": "markdown",
   "metadata": {},
   "source": [
    "# 8. show the last rows of your dataframe"
   ]
  },
  {
   "cell_type": "code",
   "execution_count": 9,
   "metadata": {},
   "outputs": [
    {
     "data": {
      "text/html": [
       "<div>\n",
       "<style scoped>\n",
       "    .dataframe tbody tr th:only-of-type {\n",
       "        vertical-align: middle;\n",
       "    }\n",
       "\n",
       "    .dataframe tbody tr th {\n",
       "        vertical-align: top;\n",
       "    }\n",
       "\n",
       "    .dataframe thead th {\n",
       "        text-align: right;\n",
       "    }\n",
       "</style>\n",
       "<table border=\"1\" class=\"dataframe\">\n",
       "  <thead>\n",
       "    <tr style=\"text-align: right;\">\n",
       "      <th></th>\n",
       "      <th>Name</th>\n",
       "      <th>Age</th>\n",
       "      <th>Course</th>\n",
       "      <th>Grade</th>\n",
       "      <th>Gender</th>\n",
       "      <th>Major</th>\n",
       "    </tr>\n",
       "  </thead>\n",
       "  <tbody>\n",
       "    <tr>\n",
       "      <th>17</th>\n",
       "      <td>Priti</td>\n",
       "      <td>NaN</td>\n",
       "      <td>Python</td>\n",
       "      <td>NaN</td>\n",
       "      <td>F</td>\n",
       "      <td>Accounting</td>\n",
       "    </tr>\n",
       "    <tr>\n",
       "      <th>18</th>\n",
       "      <td>Kriti</td>\n",
       "      <td>28.0</td>\n",
       "      <td>Python</td>\n",
       "      <td>NaN</td>\n",
       "      <td>M</td>\n",
       "      <td>Business</td>\n",
       "    </tr>\n",
       "    <tr>\n",
       "      <th>19</th>\n",
       "      <td>Kisun</td>\n",
       "      <td>NaN</td>\n",
       "      <td>NaN</td>\n",
       "      <td>88</td>\n",
       "      <td>F</td>\n",
       "      <td>Accounting</td>\n",
       "    </tr>\n",
       "  </tbody>\n",
       "</table>\n",
       "</div>"
      ],
      "text/plain": [
       "     Name   Age  Course Grade Gender       Major\n",
       "17  Priti   NaN  Python   NaN      F  Accounting\n",
       "18  Kriti  28.0  Python   NaN      M    Business\n",
       "19  Kisun   NaN     NaN    88      F  Accounting"
      ]
     },
     "execution_count": 9,
     "metadata": {},
     "output_type": "execute_result"
    }
   ],
   "source": [
    "MAC270.tail(3)"
   ]
  },
  {
   "cell_type": "markdown",
   "metadata": {},
   "source": [
    "# 9. Add another column call it new_col and insert what you see appropriate with your dictionary data"
   ]
  },
  {
   "cell_type": "code",
   "execution_count": 10,
   "metadata": {},
   "outputs": [],
   "source": [
    "emplid = [428473,546689,405856,378641,178908,469411,879648,645495,692545,\n",
    "          368875,785696, 697649,734260,620627,58214,555478, 151700,130229,492934, 117844]"
   ]
  },
  {
   "cell_type": "code",
   "execution_count": 11,
   "metadata": {},
   "outputs": [],
   "source": [
    "MAC270['new_col'] = emplid"
   ]
  },
  {
   "cell_type": "code",
   "execution_count": 12,
   "metadata": {},
   "outputs": [
    {
     "data": {
      "text/html": [
       "<div>\n",
       "<style scoped>\n",
       "    .dataframe tbody tr th:only-of-type {\n",
       "        vertical-align: middle;\n",
       "    }\n",
       "\n",
       "    .dataframe tbody tr th {\n",
       "        vertical-align: top;\n",
       "    }\n",
       "\n",
       "    .dataframe thead th {\n",
       "        text-align: right;\n",
       "    }\n",
       "</style>\n",
       "<table border=\"1\" class=\"dataframe\">\n",
       "  <thead>\n",
       "    <tr style=\"text-align: right;\">\n",
       "      <th></th>\n",
       "      <th>Name</th>\n",
       "      <th>Age</th>\n",
       "      <th>Course</th>\n",
       "      <th>Grade</th>\n",
       "      <th>Gender</th>\n",
       "      <th>Major</th>\n",
       "      <th>new_col</th>\n",
       "    </tr>\n",
       "  </thead>\n",
       "  <tbody>\n",
       "    <tr>\n",
       "      <th>0</th>\n",
       "      <td>Chhiring</td>\n",
       "      <td>40.0</td>\n",
       "      <td>Math</td>\n",
       "      <td>88</td>\n",
       "      <td>M</td>\n",
       "      <td>DataSceince</td>\n",
       "      <td>428473</td>\n",
       "    </tr>\n",
       "    <tr>\n",
       "      <th>1</th>\n",
       "      <td>Shristee</td>\n",
       "      <td>23.0</td>\n",
       "      <td>Python</td>\n",
       "      <td>92</td>\n",
       "      <td>F</td>\n",
       "      <td>Libaral art</td>\n",
       "      <td>546689</td>\n",
       "    </tr>\n",
       "    <tr>\n",
       "      <th>2</th>\n",
       "      <td>Sharada</td>\n",
       "      <td>40.0</td>\n",
       "      <td>Datasciense</td>\n",
       "      <td>95</td>\n",
       "      <td>F</td>\n",
       "      <td>Libaral art</td>\n",
       "      <td>405856</td>\n",
       "    </tr>\n",
       "    <tr>\n",
       "      <th>3</th>\n",
       "      <td>Sunil</td>\n",
       "      <td>25.0</td>\n",
       "      <td>sql</td>\n",
       "      <td>75</td>\n",
       "      <td>M</td>\n",
       "      <td>csi</td>\n",
       "      <td>378641</td>\n",
       "    </tr>\n",
       "    <tr>\n",
       "      <th>4</th>\n",
       "      <td>Karma</td>\n",
       "      <td>19.0</td>\n",
       "      <td>Eng</td>\n",
       "      <td>90</td>\n",
       "      <td>M</td>\n",
       "      <td>csi</td>\n",
       "      <td>178908</td>\n",
       "    </tr>\n",
       "  </tbody>\n",
       "</table>\n",
       "</div>"
      ],
      "text/plain": [
       "       Name   Age       Course Grade Gender        Major  new_col\n",
       "0  Chhiring  40.0         Math    88      M  DataSceince   428473\n",
       "1  Shristee  23.0       Python    92      F  Libaral art   546689\n",
       "2   Sharada  40.0  Datasciense    95      F  Libaral art   405856\n",
       "3     Sunil  25.0          sql    75      M          csi   378641\n",
       "4     Karma  19.0          Eng    90      M          csi   178908"
      ]
     },
     "execution_count": 12,
     "metadata": {},
     "output_type": "execute_result"
    }
   ],
   "source": [
    "MAC270.head()"
   ]
  },
  {
   "cell_type": "markdown",
   "metadata": {},
   "source": [
    "# 10. Present the data types of each columns"
   ]
  },
  {
   "cell_type": "code",
   "execution_count": 13,
   "metadata": {},
   "outputs": [
    {
     "data": {
      "text/plain": [
       "Name        object\n",
       "Age        float64\n",
       "Course      object\n",
       "Grade       object\n",
       "Gender      object\n",
       "Major       object\n",
       "new_col      int64\n",
       "dtype: object"
      ]
     },
     "execution_count": 13,
     "metadata": {},
     "output_type": "execute_result"
    }
   ],
   "source": [
    "MAC270.dtypes"
   ]
  },
  {
   "cell_type": "markdown",
   "metadata": {},
   "source": [
    "# 11. Drop the column you added"
   ]
  },
  {
   "cell_type": "code",
   "execution_count": 14,
   "metadata": {},
   "outputs": [],
   "source": [
    "MAC270.drop(['new_col'], axis = 1, inplace = True)"
   ]
  },
  {
   "cell_type": "code",
   "execution_count": 15,
   "metadata": {},
   "outputs": [
    {
     "data": {
      "text/html": [
       "<div>\n",
       "<style scoped>\n",
       "    .dataframe tbody tr th:only-of-type {\n",
       "        vertical-align: middle;\n",
       "    }\n",
       "\n",
       "    .dataframe tbody tr th {\n",
       "        vertical-align: top;\n",
       "    }\n",
       "\n",
       "    .dataframe thead th {\n",
       "        text-align: right;\n",
       "    }\n",
       "</style>\n",
       "<table border=\"1\" class=\"dataframe\">\n",
       "  <thead>\n",
       "    <tr style=\"text-align: right;\">\n",
       "      <th></th>\n",
       "      <th>Name</th>\n",
       "      <th>Age</th>\n",
       "      <th>Course</th>\n",
       "      <th>Grade</th>\n",
       "      <th>Gender</th>\n",
       "      <th>Major</th>\n",
       "    </tr>\n",
       "  </thead>\n",
       "  <tbody>\n",
       "    <tr>\n",
       "      <th>0</th>\n",
       "      <td>Chhiring</td>\n",
       "      <td>40.0</td>\n",
       "      <td>Math</td>\n",
       "      <td>88</td>\n",
       "      <td>M</td>\n",
       "      <td>DataSceince</td>\n",
       "    </tr>\n",
       "    <tr>\n",
       "      <th>1</th>\n",
       "      <td>Shristee</td>\n",
       "      <td>23.0</td>\n",
       "      <td>Python</td>\n",
       "      <td>92</td>\n",
       "      <td>F</td>\n",
       "      <td>Libaral art</td>\n",
       "    </tr>\n",
       "    <tr>\n",
       "      <th>2</th>\n",
       "      <td>Sharada</td>\n",
       "      <td>40.0</td>\n",
       "      <td>Datasciense</td>\n",
       "      <td>95</td>\n",
       "      <td>F</td>\n",
       "      <td>Libaral art</td>\n",
       "    </tr>\n",
       "    <tr>\n",
       "      <th>3</th>\n",
       "      <td>Sunil</td>\n",
       "      <td>25.0</td>\n",
       "      <td>sql</td>\n",
       "      <td>75</td>\n",
       "      <td>M</td>\n",
       "      <td>csi</td>\n",
       "    </tr>\n",
       "    <tr>\n",
       "      <th>4</th>\n",
       "      <td>Karma</td>\n",
       "      <td>19.0</td>\n",
       "      <td>Eng</td>\n",
       "      <td>90</td>\n",
       "      <td>M</td>\n",
       "      <td>csi</td>\n",
       "    </tr>\n",
       "  </tbody>\n",
       "</table>\n",
       "</div>"
      ],
      "text/plain": [
       "       Name   Age       Course Grade Gender        Major\n",
       "0  Chhiring  40.0         Math    88      M  DataSceince\n",
       "1  Shristee  23.0       Python    92      F  Libaral art\n",
       "2   Sharada  40.0  Datasciense    95      F  Libaral art\n",
       "3     Sunil  25.0          sql    75      M          csi\n",
       "4     Karma  19.0          Eng    90      M          csi"
      ]
     },
     "execution_count": 15,
     "metadata": {},
     "output_type": "execute_result"
    }
   ],
   "source": [
    "MAC270.head()"
   ]
  },
  {
   "cell_type": "code",
   "execution_count": 16,
   "metadata": {},
   "outputs": [
    {
     "data": {
      "text/plain": [
       "0     False\n",
       "1     False\n",
       "2     False\n",
       "3     False\n",
       "4     False\n",
       "5     False\n",
       "6     False\n",
       "7     False\n",
       "8     False\n",
       "9     False\n",
       "10    False\n",
       "11    False\n",
       "12     True\n",
       "13    False\n",
       "14    False\n",
       "15    False\n",
       "16    False\n",
       "17     True\n",
       "18    False\n",
       "19     True\n",
       "Name: Age, dtype: bool"
      ]
     },
     "execution_count": 16,
     "metadata": {},
     "output_type": "execute_result"
    }
   ],
   "source": [
    "MAC270['Age'].isnull()"
   ]
  },
  {
   "cell_type": "markdown",
   "metadata": {},
   "source": [
    "# 19. Graph of the grades of the students (Bonus)"
   ]
  },
  {
   "cell_type": "markdown",
   "metadata": {},
   "source": [
    "### Now before plotting the graphs it is necessary to cleanse the data in the DataFrame.\n",
    "- figure out standard and non-standard missing values\n",
    "- replace it with panda's standard 'NaN' values\n",
    "- fiil it up with appropriate values"
   ]
  },
  {
   "cell_type": "code",
   "execution_count": 17,
   "metadata": {},
   "outputs": [],
   "source": [
    "MAC270.replace(['Nan', 'NaN'], np.NaN, inplace = True)"
   ]
  },
  {
   "cell_type": "code",
   "execution_count": 18,
   "metadata": {},
   "outputs": [],
   "source": [
    "newAge = MAC270['Age'].median()\n",
    "newGrade = MAC270['Grade'].median()"
   ]
  },
  {
   "cell_type": "code",
   "execution_count": 19,
   "metadata": {
    "scrolled": true
   },
   "outputs": [],
   "source": [
    "MAC270 = MAC270.fillna({'Age': newAge, 'Grade':newGrade, 'Course': 'OOP'}) #using filna to replace standard missing values"
   ]
  },
  {
   "cell_type": "code",
   "execution_count": 20,
   "metadata": {},
   "outputs": [
    {
     "data": {
      "text/html": [
       "<div>\n",
       "<style scoped>\n",
       "    .dataframe tbody tr th:only-of-type {\n",
       "        vertical-align: middle;\n",
       "    }\n",
       "\n",
       "    .dataframe tbody tr th {\n",
       "        vertical-align: top;\n",
       "    }\n",
       "\n",
       "    .dataframe thead th {\n",
       "        text-align: right;\n",
       "    }\n",
       "</style>\n",
       "<table border=\"1\" class=\"dataframe\">\n",
       "  <thead>\n",
       "    <tr style=\"text-align: right;\">\n",
       "      <th></th>\n",
       "      <th>Name</th>\n",
       "      <th>Age</th>\n",
       "      <th>Course</th>\n",
       "      <th>Grade</th>\n",
       "      <th>Gender</th>\n",
       "      <th>Major</th>\n",
       "    </tr>\n",
       "  </thead>\n",
       "  <tbody>\n",
       "    <tr>\n",
       "      <th>0</th>\n",
       "      <td>Chhiring</td>\n",
       "      <td>40.0</td>\n",
       "      <td>Math</td>\n",
       "      <td>88.0</td>\n",
       "      <td>M</td>\n",
       "      <td>DataSceince</td>\n",
       "    </tr>\n",
       "    <tr>\n",
       "      <th>1</th>\n",
       "      <td>Shristee</td>\n",
       "      <td>23.0</td>\n",
       "      <td>Python</td>\n",
       "      <td>92.0</td>\n",
       "      <td>F</td>\n",
       "      <td>Libaral art</td>\n",
       "    </tr>\n",
       "    <tr>\n",
       "      <th>2</th>\n",
       "      <td>Sharada</td>\n",
       "      <td>40.0</td>\n",
       "      <td>Datasciense</td>\n",
       "      <td>95.0</td>\n",
       "      <td>F</td>\n",
       "      <td>Libaral art</td>\n",
       "    </tr>\n",
       "    <tr>\n",
       "      <th>3</th>\n",
       "      <td>Sunil</td>\n",
       "      <td>25.0</td>\n",
       "      <td>sql</td>\n",
       "      <td>75.0</td>\n",
       "      <td>M</td>\n",
       "      <td>csi</td>\n",
       "    </tr>\n",
       "    <tr>\n",
       "      <th>4</th>\n",
       "      <td>Karma</td>\n",
       "      <td>19.0</td>\n",
       "      <td>Eng</td>\n",
       "      <td>90.0</td>\n",
       "      <td>M</td>\n",
       "      <td>csi</td>\n",
       "    </tr>\n",
       "    <tr>\n",
       "      <th>5</th>\n",
       "      <td>Jose</td>\n",
       "      <td>20.0</td>\n",
       "      <td>Bio</td>\n",
       "      <td>89.5</td>\n",
       "      <td>M</td>\n",
       "      <td>csi</td>\n",
       "    </tr>\n",
       "    <tr>\n",
       "      <th>6</th>\n",
       "      <td>James</td>\n",
       "      <td>31.0</td>\n",
       "      <td>Physics</td>\n",
       "      <td>87.0</td>\n",
       "      <td>M</td>\n",
       "      <td>IT</td>\n",
       "    </tr>\n",
       "    <tr>\n",
       "      <th>7</th>\n",
       "      <td>Joney</td>\n",
       "      <td>33.0</td>\n",
       "      <td>Bio</td>\n",
       "      <td>90.0</td>\n",
       "      <td>M</td>\n",
       "      <td>IT</td>\n",
       "    </tr>\n",
       "    <tr>\n",
       "      <th>8</th>\n",
       "      <td>Kate</td>\n",
       "      <td>24.0</td>\n",
       "      <td>OOP</td>\n",
       "      <td>91.0</td>\n",
       "      <td>F</td>\n",
       "      <td>IT</td>\n",
       "    </tr>\n",
       "    <tr>\n",
       "      <th>9</th>\n",
       "      <td>Kaori</td>\n",
       "      <td>25.0</td>\n",
       "      <td>Math</td>\n",
       "      <td>93.0</td>\n",
       "      <td>F</td>\n",
       "      <td>Journalism</td>\n",
       "    </tr>\n",
       "    <tr>\n",
       "      <th>10</th>\n",
       "      <td>Binod</td>\n",
       "      <td>22.0</td>\n",
       "      <td>Python</td>\n",
       "      <td>97.0</td>\n",
       "      <td>F</td>\n",
       "      <td>Security</td>\n",
       "    </tr>\n",
       "    <tr>\n",
       "      <th>11</th>\n",
       "      <td>Nancy</td>\n",
       "      <td>29.0</td>\n",
       "      <td>C#</td>\n",
       "      <td>87.0</td>\n",
       "      <td>M</td>\n",
       "      <td>Security</td>\n",
       "    </tr>\n",
       "    <tr>\n",
       "      <th>12</th>\n",
       "      <td>Park</td>\n",
       "      <td>25.0</td>\n",
       "      <td>C++</td>\n",
       "      <td>88.0</td>\n",
       "      <td>F</td>\n",
       "      <td>WebDesign</td>\n",
       "    </tr>\n",
       "    <tr>\n",
       "      <th>13</th>\n",
       "      <td>Sally</td>\n",
       "      <td>30.0</td>\n",
       "      <td>D-art</td>\n",
       "      <td>89.0</td>\n",
       "      <td>M</td>\n",
       "      <td>WebDesign</td>\n",
       "    </tr>\n",
       "    <tr>\n",
       "      <th>14</th>\n",
       "      <td>Nick</td>\n",
       "      <td>21.0</td>\n",
       "      <td>Math</td>\n",
       "      <td>79.0</td>\n",
       "      <td>M</td>\n",
       "      <td>Business</td>\n",
       "    </tr>\n",
       "    <tr>\n",
       "      <th>15</th>\n",
       "      <td>Salem</td>\n",
       "      <td>32.0</td>\n",
       "      <td>D-art</td>\n",
       "      <td>89.5</td>\n",
       "      <td>M</td>\n",
       "      <td>Business</td>\n",
       "    </tr>\n",
       "    <tr>\n",
       "      <th>16</th>\n",
       "      <td>Mohamad</td>\n",
       "      <td>18.0</td>\n",
       "      <td>Math</td>\n",
       "      <td>98.0</td>\n",
       "      <td>F</td>\n",
       "      <td>Fine Art</td>\n",
       "    </tr>\n",
       "    <tr>\n",
       "      <th>17</th>\n",
       "      <td>Priti</td>\n",
       "      <td>25.0</td>\n",
       "      <td>Python</td>\n",
       "      <td>89.5</td>\n",
       "      <td>F</td>\n",
       "      <td>Accounting</td>\n",
       "    </tr>\n",
       "    <tr>\n",
       "      <th>18</th>\n",
       "      <td>Kriti</td>\n",
       "      <td>28.0</td>\n",
       "      <td>Python</td>\n",
       "      <td>89.5</td>\n",
       "      <td>M</td>\n",
       "      <td>Business</td>\n",
       "    </tr>\n",
       "    <tr>\n",
       "      <th>19</th>\n",
       "      <td>Kisun</td>\n",
       "      <td>25.0</td>\n",
       "      <td>OOP</td>\n",
       "      <td>88.0</td>\n",
       "      <td>F</td>\n",
       "      <td>Accounting</td>\n",
       "    </tr>\n",
       "  </tbody>\n",
       "</table>\n",
       "</div>"
      ],
      "text/plain": [
       "        Name   Age       Course  Grade Gender        Major\n",
       "0   Chhiring  40.0         Math   88.0      M  DataSceince\n",
       "1   Shristee  23.0       Python   92.0      F  Libaral art\n",
       "2    Sharada  40.0  Datasciense   95.0      F  Libaral art\n",
       "3      Sunil  25.0          sql   75.0      M          csi\n",
       "4      Karma  19.0          Eng   90.0      M          csi\n",
       "5       Jose  20.0          Bio   89.5      M          csi\n",
       "6      James  31.0      Physics   87.0      M           IT\n",
       "7      Joney  33.0          Bio   90.0      M           IT\n",
       "8       Kate  24.0          OOP   91.0      F           IT\n",
       "9      Kaori  25.0         Math   93.0      F   Journalism\n",
       "10     Binod  22.0       Python   97.0      F     Security\n",
       "11     Nancy  29.0           C#   87.0      M     Security\n",
       "12      Park  25.0          C++   88.0      F    WebDesign\n",
       "13     Sally  30.0        D-art   89.0      M    WebDesign\n",
       "14      Nick  21.0         Math   79.0      M     Business\n",
       "15     Salem  32.0        D-art   89.5      M     Business\n",
       "16   Mohamad  18.0         Math   98.0      F     Fine Art\n",
       "17     Priti  25.0       Python   89.5      F   Accounting\n",
       "18     Kriti  28.0       Python   89.5      M     Business\n",
       "19     Kisun  25.0          OOP   88.0      F   Accounting"
      ]
     },
     "execution_count": 20,
     "metadata": {},
     "output_type": "execute_result"
    }
   ],
   "source": [
    "MAC270"
   ]
  },
  {
   "cell_type": "code",
   "execution_count": 21,
   "metadata": {},
   "outputs": [],
   "source": [
    "rcParams['figure.figsize'] = 16, 9"
   ]
  },
  {
   "cell_type": "code",
   "execution_count": 22,
   "metadata": {},
   "outputs": [
    {
     "data": {
      "text/plain": [
       "Text(0.5, 1.0, 'Graph showing grades of the students')"
      ]
     },
     "execution_count": 22,
     "metadata": {},
     "output_type": "execute_result"
    },
    {
     "data": {
      "image/png": "[encoded data removed]",
      "text/plain": [
       "<Figure size 1152x648 with 1 Axes>"
      ]
     },
     "metadata": {
      "needs_background": "light"
     },
     "output_type": "display_data"
    }
   ],
   "source": [
    "plt.plot(MAC270['Name'], MAC270['Grade'])\n",
    "plt.ylabel('Grades')\n",
    "plt.xlabel('Student Names')\n",
    "plt.title('Graph showing grades of the students')"
   ]
  }
 ],
 "metadata": {
  "kernelspec": {
   "display_name": "Python 3",
   "language": "python",
   "name": "python3"
  },
  "language_info": {
   "codemirror_mode": {
    "name": "ipython",
    "version": 3
   },
   "file_extension": ".py",
   "mimetype": "text/x-python",
   "name": "python",
   "nbconvert_exporter": "python",
   "pygments_lexer": "ipython3",
   "version": "3.7.1"
  }
 },
 "nbformat": 4,
 "nbformat_minor": 2
}
